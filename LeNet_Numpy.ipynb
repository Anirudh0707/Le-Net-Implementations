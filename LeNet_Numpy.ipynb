{
 "cells": [
  {
   "cell_type": "markdown",
   "metadata": {
    "colab_type": "text",
    "id": "0tdACtNqNmLV"
   },
   "source": [
    "## National Institute of Technology Karnatata, Surathkal\n",
    "## Department of Electronics and Communication Engg."
   ]
  },
  {
   "cell_type": "markdown",
   "metadata": {
    "colab_type": "text",
    "id": "yRe54wBGNmLW"
   },
   "source": [
    "## DL Lab : LeNet"
   ]
  },
  {
   "cell_type": "markdown",
   "metadata": {},
   "source": [
    "###### Authors : Anirudh BH (16EC105), Manan Sharma (16EC118)"
   ]
  },
  {
   "cell_type": "markdown",
   "metadata": {
    "colab_type": "text",
    "id": "8WszawkRNmLZ"
   },
   "source": [
    "Import all Essential Libraries"
   ]
  },
  {
   "cell_type": "code",
   "execution_count": 1,
   "metadata": {
    "colab": {},
    "colab_type": "code",
    "id": "zmDXNmZgNmLb"
   },
   "outputs": [],
   "source": [
    "import numpy as np\n",
    "import matplotlib.pyplot as plt\n",
    "import scipy.signal as sig\n",
    "\n",
    "#Library to show progress bar and time remaining while training\n",
    "from tqdm.notebook import tqdm\n",
    "\n",
    "#Using sklearn for downloading MNIST dataset\n",
    "from sklearn.datasets import fetch_openml\n",
    "#Using sklearn for train-test split and to print classification report\n",
    "from sklearn.model_selection import train_test_split\n",
    "from sklearn.metrics import classification_report, confusion_matrix"
   ]
  },
  {
   "cell_type": "markdown",
   "metadata": {
    "colab_type": "text",
    "id": "lbskyD8LQ1xz"
   },
   "source": [
    "# Import Data"
   ]
  },
  {
   "cell_type": "code",
   "execution_count": 2,
   "metadata": {
    "colab": {},
    "colab_type": "code",
    "id": "8-DuUIyxQzdF"
   },
   "outputs": [],
   "source": [
    "X, Y = fetch_openml('mnist_784', version=1, return_X_y=True)"
   ]
  },
  {
   "cell_type": "markdown",
   "metadata": {
    "colab_type": "text",
    "id": "nUacEyLLt5wG"
   },
   "source": [
    "# Convolutional Layer\n",
    "\n",
    "**Initializer :**<br/>\n",
    "1) in_channel  : Channel Size of the Input<br/>\n",
    "2) out_channel : Channel Size of the Output<br/>\n",
    "3) kernel_size : Filter Size for the kernel<br/>\n",
    "4) stride      : Stride step size for the kernel<br/>\n",
    "5) pad         : Input padding sepcifications. The same number of 0's is padded on both sides<br/>\n",
    "\n",
    "**Methods :** <br/>\n",
    "1) forward : Forward Propogation of the model<br/>\n",
    "2) backward : Backward Propogation of the Loss and Gradient Descent Update<br/>\n",
    "3) zero_pad : Padding the inuput to preserve/expand dimensions<br/>\n",
    "4) cov_single_step : The main function for the forward convolution of a given windowed input. Window size = kernel filter size<br/>"
   ]
  },
  {
   "cell_type": "code",
   "execution_count": 3,
   "metadata": {
    "colab": {},
    "colab_type": "code",
    "id": "jSZENSDa5Cxb"
   },
   "outputs": [],
   "source": [
    "class ConvLayer:\n",
    "    def __init__(self, in_channel, out_channel, kernel_size, stride, pad):\n",
    "        # Current Implementation is targeted square filters\n",
    "        assert type(kernel_size) == int , \"Kernel Error, Enter a scalar of type Int\" \n",
    "        # Initialze the weights and bias associated with the layer\n",
    "        self.W = np.random.randn(kernel_size, kernel_size, in_channel, out_channel).astype(float)\n",
    "        self.b = np.random.randn(1,1,1,out_channel).astype(float)\n",
    "        # Class Attributes\n",
    "        self.in_channel = in_channel\n",
    "        self.out_channel = out_channel\n",
    "        self.kernel_size = kernel_size\n",
    "        self.stride = stride\n",
    "        self.pad = pad \n",
    "\n",
    "    def zero_pad(self, X):\n",
    "        '''\n",
    "        Input\n",
    "        X : Input from the previous layer/Original Image input\n",
    "        \n",
    "        Output\n",
    "        X_pad : Padded version of the input\n",
    "        \n",
    "        Operation\n",
    "        Pad both sides of the input X with the specified number of zeros\n",
    "        '''\n",
    "        X_pad = np.pad(X,((0,0),(self.pad,self.pad), (self.pad,self.pad),(0,0)), mode='constant', constant_values = (0,0))\n",
    "        return X_pad\n",
    "\n",
    "    def conv_single_step(self, a_slice_prev, weights, bias):\n",
    "        '''\n",
    "        Inputs\n",
    "        a_slice_prev : The windowed version of the input. Window Length = filter size\n",
    "        weights      : The filter kernel for the input. Size = kernel_size, kernel_size, in_channel\n",
    "        bias         : Bias associated with the filter\n",
    "        \n",
    "        Output\n",
    "        Z : Output of the convolution operation\n",
    "        \n",
    "        Operation\n",
    "        Pointwise-multiplication of the sliced input and the filter. \n",
    "        The elements of the multiplied output is summed and the bias term is added\n",
    "        '''\n",
    "        s = a_slice_prev* weights\n",
    "        Z = np.sum(s)\n",
    "        Z = Z + float(bias)\n",
    "        return Z\n",
    "\n",
    "    def forward(self, A_prev):\n",
    "        '''\n",
    "        Input\n",
    "        A_prev : The input to the current layer(output of the previous layer + activation)\n",
    "        \n",
    "        Output\n",
    "        Z : The output of the 2D linear Convolution operation\n",
    "        \n",
    "        Operation\n",
    "        First the input is windowed/sliced. The window length used is specified from the Initializer\n",
    "        The sliced input is taken and a single filter is applied . The output is a single entry into the output array\n",
    "        This step is repeated for all channels. A total of out_channel number of filters are present\n",
    "        The above step is then repeated for all the rows and columns of the output array\n",
    "        \n",
    "        Note: We store the input to the layer as well for backprop\n",
    "        '''\n",
    "        (m, n_H_prev, n_W_prev, _) = A_prev.shape \n",
    "        n_H = int((n_H_prev - self.kernel_size + 2 * self.pad) / self.stride) + 1\n",
    "        n_W = int((n_W_prev - self.kernel_size + 2 * self.pad) / self.stride) + 1\n",
    "        Z = np.zeros((m, n_H, n_W, self.out_channel))\n",
    "        if self.pad == 0:\n",
    "            A_prev_pad = A_prev\n",
    "        else:\n",
    "            A_prev_pad = self.zero_pad(A_prev)\n",
    "        \n",
    "        for i in range(m):\n",
    "            a_prev_pad = A_prev_pad[i,:,:,:]\n",
    "            for h in range(n_H):\n",
    "                vert_start = h * self.stride\n",
    "                vert_end = vert_start + self.kernel_size\n",
    "                \n",
    "                for w in range(n_W):\n",
    "                    horiz_start = w * self.stride\n",
    "                    horiz_end = horiz_start + self.kernel_size\n",
    "                    \n",
    "                    for c in range(self.out_channel):\n",
    "                        a_slice_prev = a_prev_pad[vert_start:vert_end, horiz_start:horiz_end, :]\n",
    "                        weights = self.W[...,c]\n",
    "                        biases = self.b[...,c]\n",
    "                        Z[i, h, w, c] = self.conv_single_step(a_slice_prev, weights, biases)\n",
    "        assert(Z.shape == (m, n_H, n_W, self.out_channel))\n",
    "        self.prev = A_prev\n",
    "        return Z\n",
    "        \n",
    "    def backward(self, dZ, learning_rate=0.001):\n",
    "        '''\n",
    "        Input\n",
    "        dZ : Derivative of the Loss function wrt the output of the current layer\n",
    "        learning_rate : The step size for the gradient update.\n",
    "        \n",
    "        Output\n",
    "        dA_prev : The derivative of the loss function wrt the previous layer output\n",
    "        \n",
    "        Operation\n",
    "        The derivative of the loss wrt the previous layer's ouput is caculated from the derivative wrt the output of the current layer\n",
    "        This is calculated using the Chain Rule\n",
    "        Along with the derivative wrt the previous layer, the deriavte wrt the weights and bias of the current layer is calculated\n",
    "        The calculated weight and bias gradients are used for the gradient descent update\n",
    "        \n",
    "        Stored Values from Forward Propogation\n",
    "        self.prev : Input to the current layer for forward propogation\n",
    "        '''\n",
    "        A_prev = self.prev\n",
    "        (m, n_H_prev, n_W_prev, _) = A_prev.shape\n",
    "        (m, n_H, n_W, _) = dZ.shape\n",
    "        dA_prev = np.zeros((m, n_H_prev, n_W_prev, self.in_channel))   \n",
    "        dW = np.zeros((self.kernel_size, self.kernel_size, self.in_channel, self.out_channel))\n",
    "        db = np.zeros((1, 1, 1, self.out_channel))\n",
    "        if self.pad == 0:\n",
    "            A_prev_pad = A_prev\n",
    "            dA_prev_pad = dA_prev\n",
    "        else:\n",
    "            A_prev_pad = self.zero_pad(A_prev)\n",
    "            dA_prev_pad = self.zero_pad(dA_prev)\n",
    "        \n",
    "        for i in range(m):\n",
    "            a_prev_pad = A_prev_pad[i]\n",
    "            da_prev_pad = dA_prev_pad[i]\n",
    "            \n",
    "            for h in range(n_H):\n",
    "                for w in range(n_W):\n",
    "                    for c in range(self.out_channel):\n",
    "                        vert_start = h * self.stride\n",
    "                        vert_end = vert_start + self.kernel_size\n",
    "                        horiz_start = w * self.stride\n",
    "                        horiz_end = horiz_start + self.kernel_size\n",
    "                        a_slice = a_prev_pad[vert_start:vert_end, horiz_start:horiz_end,:]\n",
    "                        da_prev_pad[vert_start:vert_end, horiz_start:horiz_end, :] += self.W[:,:,:,c] * dZ[i, h, w, c]\n",
    "                        dW[:,:,:,c] += a_slice * dZ[i, h, w, c]\n",
    "                        db[:,:,:,c] += dZ[i, h, w, c]\n",
    "            if self.pad == 0:\n",
    "                dA_prev[i, :, :, :] = da_prev_pad\n",
    "            else :\n",
    "                dA_prev[i, :, :, :] = da_prev_pad[self.pad:-self.pad, self.pad:-self.pad, :]\n",
    "        assert(dA_prev.shape == (m, n_H_prev, n_W_prev, self.in_channel))\n",
    "        self.W -= learning_rate * dW\n",
    "        self.b -= learning_rate * db\n",
    "        return dA_prev"
   ]
  },
  {
   "cell_type": "markdown",
   "metadata": {
    "colab_type": "text",
    "id": "70fg4v2PRFS5"
   },
   "source": [
    "# Pooling Layer\n",
    "\n",
    "**Initializer :**<br/>\n",
    "1) kernel_size : Filter Size for the kernel<br/>\n",
    "2) stride      : Stride step size for the kernel<br/>\n",
    "3) mode        : Pooling type sepcifications<br/>\n",
    "\n",
    "**Methods :** <br/>\n",
    "1) forward : Forward Propogation of the model<br/>\n",
    "2) backward : Backward Propogation of the Loss and Gradient Descent Update<br/>\n",
    "3) create_mask_from_window : Create the mask to find the max element for backprop of Max Pool<br/>"
   ]
  },
  {
   "cell_type": "code",
   "execution_count": 4,
   "metadata": {
    "colab": {},
    "colab_type": "code",
    "id": "y4SRIvFU1r3h"
   },
   "outputs": [],
   "source": [
    "class PoolLayer:\n",
    "    def __init__(self, kernel_size, stride, mode = 'max'):\n",
    "        self.kernel_size = kernel_size\n",
    "        self.stride = stride\n",
    "        # mode can only be average or max\n",
    "        self.mode = mode\n",
    "\n",
    "    def create_mask_from_window(self, x):\n",
    "        '''\n",
    "        Input\n",
    "        x : Sliced/Windowed Input\n",
    "        \n",
    "        Output\n",
    "        A mask with the index of the max element as 1 and remaining elments as 0\n",
    "        \n",
    "        Operation\n",
    "        Returns an mask/array of the same dimensions as the input\n",
    "        The array has a value of 1 at the position of the maximum element and 0 otherwise\n",
    "        It is essential for max pooling. It is not used in the average pooling mode\n",
    "        '''\n",
    "        return (x==np.max(x)).astype(float)\n",
    "    \n",
    "    def forward(self, A_prev):\n",
    "        '''\n",
    "        Input\n",
    "        A_prev : The input to the current layer(output of the previous layer + activation)\n",
    "        \n",
    "        Output\n",
    "        A : The output of the 2D Max/Avg Pooling operation\n",
    "        \n",
    "        Operation\n",
    "        First the input is windowed/sliced. The window length used is specified from the Initializer\n",
    "        The sliced input is either averaged or the maximum element is taken depending on the mode\n",
    "        The above step is then repeated for all the entire input array\n",
    "        \n",
    "        Note: We store the input to the layer as well for backprop\n",
    "        '''\n",
    "        (m, n_H_prev, n_W_prev, n_C) = A_prev.shape\n",
    "        n_H = int(1 + (n_H_prev - self.kernel_size) / self.stride)\n",
    "        n_W = int(1 + (n_W_prev - self.kernel_size) / self.stride)\n",
    "        A = np.zeros((m, n_H, n_W, n_C))              \n",
    "\n",
    "        for i in range(m):\n",
    "            for h in range(n_H):\n",
    "                vert_start = h*self.stride\n",
    "                vert_end = vert_start + self.kernel_size\n",
    "                \n",
    "                for w in range(n_W):\n",
    "                    horiz_start = w * self.stride\n",
    "                    horiz_end = horiz_start + self.kernel_size\n",
    "                    \n",
    "                    for c in range (n_C):\n",
    "                        a_prev_slice = A_prev[i,vert_start:vert_end,horiz_start:horiz_end,c]\n",
    "                        if self.mode == \"max\":\n",
    "                            A[i, h, w, c] = np.max(a_prev_slice)\n",
    "                        elif self.mode == \"average\":\n",
    "                            A[i, h, w, c] = np.mean(a_prev_slice)        \n",
    "        assert(A.shape == (m, n_H, n_W, n_C))\n",
    "        self.prev = A_prev\n",
    "        return A\n",
    "\n",
    "    def backward(self, dA, **kwargs):\n",
    "        '''\n",
    "        Input\n",
    "        dA : Derivative of the Loss function wrt the output of the current layer\n",
    "        \n",
    "        Output\n",
    "        dA_prev : The derivative of the loss function wrt the previous layer output\n",
    "        \n",
    "        Operation\n",
    "        The derivative of the loss wrt the previous layer's ouput is caculated from the derivative wrt the output of the current layer\n",
    "        This is calculated using the Chain Rule\n",
    "        \n",
    "        Stored Values from Forward Propogation\n",
    "        self.prev : Input to the current layer for forward propogation\n",
    "        '''\n",
    "        A_prev = self.prev\n",
    "        m, n_H_prev, n_W_prev, n_C_prev = A_prev.shape\n",
    "        m, n_H, n_W, n_C = dA.shape\n",
    "        dA_prev = np.zeros_like(A_prev)\n",
    "        for i in range(m):\n",
    "            a_prev = A_prev[i]\n",
    "            \n",
    "            for h in range(n_H):\n",
    "                for w in range(n_W):\n",
    "                    for c in range(n_C):\n",
    "                        vert_start = h * self.stride\n",
    "                        vert_end = vert_start + self.kernel_size\n",
    "                        horiz_start = w * self.stride\n",
    "                        horiz_end = horiz_start + self.kernel_size\n",
    "                        if self.mode == \"max\":\n",
    "                            a_prev_slice = a_prev[vert_start:vert_end, horiz_start:horiz_end, c]\n",
    "                            mask = self.create_mask_from_window(a_prev_slice)\n",
    "                            dA_prev[i, vert_start: vert_end, horiz_start: horiz_end, c] += mask * dA[i,h,w,c]\n",
    "                            \n",
    "                        elif self.mode == \"average\":\n",
    "                            da = dA[i,h,w,c]\n",
    "                            shape = (self.kernel_size, self.kernel_size)\n",
    "                            dA_prev[i, vert_start: vert_end, horiz_start: horiz_end, c] += distribute_value(da, shape)        \n",
    "        assert(dA_prev.shape == A_prev.shape)\n",
    "        return dA_prev"
   ]
  },
  {
   "cell_type": "markdown",
   "metadata": {
    "colab_type": "text",
    "id": "ZtHyjmwGRJn4"
   },
   "source": [
    "# Linear Layer\n",
    "\n",
    "**Initializer :**<br/>\n",
    "1) input_dim  : Input Dimension Length<br/>\n",
    "2) output_dim : Output Dimension Length<br/>\n",
    "\n",
    "**Methods :** <br/>\n",
    "1) forward : Forward Propogation of the model<br/>\n",
    "2) backward : Backward Propogation of the Loss and Gradient Descent Update<br/>"
   ]
  },
  {
   "cell_type": "code",
   "execution_count": 5,
   "metadata": {
    "colab": {},
    "colab_type": "code",
    "id": "AfwbkEcePZ0o"
   },
   "outputs": [],
   "source": [
    "class LinearLayer:\n",
    "    def __init__(self, input_dim, output_dim):\n",
    "        self.input_dim = input_dim\n",
    "        self.output_dim = output_dim\n",
    "        # Initialize the weights and bias for the layer\n",
    "        self.W = np.random.randn(input_dim, output_dim)\n",
    "        self.b = np.zeros(output_dim, dtype=float)\n",
    "\n",
    "    def forward(self, A_prev):\n",
    "        '''\n",
    "        Input\n",
    "        A_prev : The input to the current layer(output of the previous layer + activation)\n",
    "        \n",
    "        Output\n",
    "        The output of the Dense Layer aka Linear Layer\n",
    "        \n",
    "        Operation\n",
    "        The Input is Matrix Multiplied with a matrix of dims (input_dim, output_dim)\n",
    "        The Input is transformed from the input_dim space to the output_dim space\n",
    "        \n",
    "        Note: We store the input to the layer as well for backprop\n",
    "        '''\n",
    "        self.A_prev = A_prev\n",
    "        return np.add((A_prev @ self.W), self.b)\n",
    "\n",
    "    def backward(self, dA, learning_rate=0.001):\n",
    "        '''\n",
    "        Input\n",
    "        dA : Derivative of the Loss function wrt the output of the current layer\n",
    "        learning_rate : The step size for the gradient update.\n",
    "        \n",
    "        Output\n",
    "        dA_prev : The derivative of the loss function wrt the previous layer output\n",
    "        \n",
    "        Operation\n",
    "        The derivative of the loss wrt the previous layer's ouput is caculated from the derivative wrt the output of the current layer\n",
    "        This is calculated using the Chain Rule\n",
    "        Along with the derivative wrt the previous layer, the deriavte wrt the weights and bias of the current layer is calculated\n",
    "        The calculated weight and bias gradients are used for the gradient descent update\n",
    "        \n",
    "        Stored Values from Forward Propogation\n",
    "        self.prev : Input to the current layer for forward propogation\n",
    "        '''\n",
    "        dW = (self.A_prev).T @ dA\n",
    "        db = np.sum(dA,axis=0) \n",
    "        dA_prev = dA @ (self.W).T\n",
    "        self.W -= learning_rate*dW\n",
    "        self.b -= learning_rate*db\n",
    "        return dA_prev"
   ]
  },
  {
   "cell_type": "markdown",
   "metadata": {
    "colab_type": "text",
    "id": "YxBt2LrkRLGx"
   },
   "source": [
    "# Non-Trainable Layers\n",
    "\n",
    "Flattening and Activation Layers"
   ]
  },
  {
   "cell_type": "code",
   "execution_count": 6,
   "metadata": {
    "colab": {},
    "colab_type": "code",
    "id": "NWWAe0Evgowh"
   },
   "outputs": [],
   "source": [
    "class Flatten:\n",
    "    def forward(self, A_prev):\n",
    "        # Remember the input dim for backprop\n",
    "        self.dim = A_prev.shape[1:]\n",
    "        # Flatten all dims, except the batch dim\n",
    "        return np.reshape(A_prev, (-1, np.prod(self.dim)))\n",
    "\n",
    "    def backward(self, dA, *args, **kwargs):\n",
    "        # Reshape the gradient to the original input dim\n",
    "        return np.reshape(dA, (-1, *(self.dim)))\n",
    "\n",
    "class Sigmoid:\n",
    "    def forward(self, A_prev):\n",
    "        # Calculate and store the output of the sigmoid\n",
    "        self.out = 1/(1+np.exp(-1*A_prev))\n",
    "        return self.out\n",
    "\n",
    "    def backward(self, dA, *args, **kwargs):\n",
    "        # From the stored output, Calculate the gradient prior to the activation\n",
    "        return dA*self.out*(1.0-self.out)\n",
    "\n",
    "class ReLU:\n",
    "    def __init__(self, epsilon=1e-7):\n",
    "        # Very small value to prevent NaN and +-Inf\n",
    "        self.epsilon = epsilon\n",
    "        \n",
    "    def forward(self, A_prev):\n",
    "        # Perform the ReLU operation\n",
    "        out = np.maximum(A_prev, 0)\n",
    "        # Store the mask where input was greater than 1 for backprop\n",
    "        self.mask = (out > 0).astype(float)\n",
    "        return out + self.epsilon\n",
    "\n",
    "    def backward(self, dA, *args, **kwargs):\n",
    "        # Using the mask calculate the gradient prior to the actiavtion\n",
    "        return self.mask*dA + self.epsilon\n",
    "\n",
    "class Softmax:\n",
    "    def forward(self, A_prev):\n",
    "        # Compute the softmax of vector x\n",
    "        exps = np.exp(A_prev - A_prev.max(axis=1))\n",
    "        return exps / np.sum(exps, axis = 1)\n",
    "\n",
    "    def backward(self, dA, *args, **kwargs):\n",
    "        return dA*(1.0-dA)"
   ]
  },
  {
   "cell_type": "markdown",
   "metadata": {
    "colab_type": "text",
    "id": "8iVyLaTQWFvv"
   },
   "source": [
    "# Training"
   ]
  },
  {
   "cell_type": "markdown",
   "metadata": {
    "colab_type": "text",
    "id": "-UiXuwOQdQbH"
   },
   "source": [
    "## Data Split and Limit\n",
    "\n",
    "We limit the Data due to the excessive duration of execution for the entire data"
   ]
  },
  {
   "cell_type": "code",
   "execution_count": 7,
   "metadata": {
    "colab": {},
    "colab_type": "code",
    "id": "OBevAAtgdorG"
   },
   "outputs": [],
   "source": [
    "limit_data = 6000\n",
    "X = X[0:limit_data,]\n",
    "Y = Y[0:limit_data]\n",
    "X_train, X_test, Y_train, Y_test = train_test_split(X/255, Y.astype(float), test_size=0.2, shuffle=True)"
   ]
  },
  {
   "cell_type": "markdown",
   "metadata": {
    "colab_type": "text",
    "id": "DfWE1MYgdaLj"
   },
   "source": [
    "## Model Definition\n",
    "\n",
    "Since the Model is a Sequential Model, we save it as a list."
   ]
  },
  {
   "cell_type": "code",
   "execution_count": 8,
   "metadata": {
    "colab": {},
    "colab_type": "code",
    "id": "2pSPzKg0dpDk"
   },
   "outputs": [],
   "source": [
    "model = [ConvLayer(in_channel = 1, out_channel=6, kernel_size=5, stride = 1, pad = 2), \n",
    "        Sigmoid(), \n",
    "        PoolLayer(kernel_size = 2, stride = 2),\n",
    "        ConvLayer(in_channel = 6, out_channel=16, kernel_size=5, stride = 1, pad = 0), \n",
    "        Sigmoid(), \n",
    "        PoolLayer(kernel_size = 2, stride = 2),\n",
    "        Flatten(),\n",
    "        LinearLayer(input_dim = 5*5*16, output_dim = 120),\n",
    "        Sigmoid(),\n",
    "        LinearLayer(input_dim = 120, output_dim = 84),\n",
    "        Sigmoid(),\n",
    "        LinearLayer(input_dim = 84, output_dim = 10)]"
   ]
  },
  {
   "cell_type": "markdown",
   "metadata": {},
   "source": [
    "## Softmax and Softmax Derivative Definition"
   ]
  },
  {
   "cell_type": "code",
   "execution_count": 9,
   "metadata": {
    "colab": {},
    "colab_type": "code",
    "id": "cOTlEncBn_-P"
   },
   "outputs": [],
   "source": [
    "def stable_softmax(X):\n",
    "    exps = np.exp(X - np.max(X, axis=1))\n",
    "    return exps / np.sum(exps, axis=1)\n",
    "\n",
    "def cross_entropy(X,y):\n",
    "    # X is the output from fully connected layer (num_examples x num_classes)\n",
    "    # y is labels (num_examples x 1). y is not one-hot encoded vector. \n",
    "    m = y.shape[0]\n",
    "    p = stable_softmax(X)\n",
    "    # We use multidimensional array indexing to extract \n",
    "    # softmax probability of the correct label for each sample.\n",
    "    # Refer to https://docs.scipy.org/doc/numpy/user/basics.indexing.html#indexing-multi-dimensional-arrays for understanding multidimensional array indexing.\n",
    "    log_likelihood = -np.log(p[range(m),y.astype(int)])\n",
    "    loss = np.sum(log_likelihood) / m\n",
    "    return loss\n",
    "\n",
    "def delta_cross_entropy(X,y):\n",
    "    # X is the output from fully connected layer (num_examples x num_classes)\n",
    "    # y is labels (num_examples x 1). Note that y is not one-hot encoded vector. \n",
    "    m = y.shape[0]\n",
    "    grad = stable_softmax(X)\n",
    "    grad[range(m),y.astype(int)] -= 1\n",
    "    grad = grad/m\n",
    "    return grad"
   ]
  },
  {
   "cell_type": "markdown",
   "metadata": {
    "colab_type": "text",
    "id": "cJyFjfxNdcKX"
   },
   "source": [
    "## Training Loop"
   ]
  },
  {
   "cell_type": "code",
   "execution_count": 10,
   "metadata": {
    "colab": {
     "base_uri": "https://localhost:8080/",
     "height": 49,
     "referenced_widgets": [
      "a129cc23368f42e6a4984c3856151768",
      "d4783a4da9464489a9de103a8b1e29f0",
      "342bcc9d813a45e5ba5e508e971a2778",
      "02bd46670bb84d1c91cf1b3caa0c7e24",
      "e2fcdf429f2b4e179189fc19b5fde704",
      "dc21b29d7f9541e9be6fe4747b6604ac",
      "8441c2a371e14f8e85ff8ba166884fbd",
      "7910066bb3434834b9b6d31fd45b8d64"
     ]
    },
    "colab_type": "code",
    "id": "_kWI7CNvlaxI",
    "outputId": "ac4fec5e-97cd-4688-aed9-a354bc96adc5"
   },
   "outputs": [
    {
     "data": {
      "application/vnd.jupyter.widget-view+json": {
       "model_id": "e8a7daa6084a484ab97edb78946ab763",
       "version_major": 2,
       "version_minor": 0
      },
      "text/plain": [
       "HBox(children=(FloatProgress(value=0.0, max=4800.0), HTML(value='')))"
      ]
     },
     "metadata": {},
     "output_type": "display_data"
    },
    {
     "name": "stdout",
     "output_type": "stream",
     "text": [
      "\n",
      "Epoch :  1 Loss :  1.6697436938197052 Accuracy :  0.441875\n",
      "\n"
     ]
    },
    {
     "data": {
      "application/vnd.jupyter.widget-view+json": {
       "model_id": "69c8279f27f84aca81aca07e2a51f430",
       "version_major": 2,
       "version_minor": 0
      },
      "text/plain": [
       "HBox(children=(FloatProgress(value=0.0, max=4800.0), HTML(value='')))"
      ]
     },
     "metadata": {},
     "output_type": "display_data"
    },
    {
     "name": "stdout",
     "output_type": "stream",
     "text": [
      "\n",
      "Epoch :  2 Loss :  1.0333770750323388 Accuracy :  0.6677083333333333\n",
      "\n"
     ]
    },
    {
     "data": {
      "application/vnd.jupyter.widget-view+json": {
       "model_id": "3f606643cb29475786fa0e3800b0d7f0",
       "version_major": 2,
       "version_minor": 0
      },
      "text/plain": [
       "HBox(children=(FloatProgress(value=0.0, max=4800.0), HTML(value='')))"
      ]
     },
     "metadata": {},
     "output_type": "display_data"
    },
    {
     "name": "stdout",
     "output_type": "stream",
     "text": [
      "\n",
      "Epoch :  3 Loss :  0.7654709857974423 Accuracy :  0.7641666666666667\n",
      "\n"
     ]
    },
    {
     "data": {
      "application/vnd.jupyter.widget-view+json": {
       "model_id": "455066677c974255830a5c62c510f693",
       "version_major": 2,
       "version_minor": 0
      },
      "text/plain": [
       "HBox(children=(FloatProgress(value=0.0, max=4800.0), HTML(value='')))"
      ]
     },
     "metadata": {},
     "output_type": "display_data"
    },
    {
     "name": "stdout",
     "output_type": "stream",
     "text": [
      "\n",
      "Epoch :  4 Loss :  0.6152362617739958 Accuracy :  0.8102083333333333\n",
      "\n"
     ]
    },
    {
     "data": {
      "application/vnd.jupyter.widget-view+json": {
       "model_id": "0c89d4c5c16d4cd39f90126aa8c1dcb6",
       "version_major": 2,
       "version_minor": 0
      },
      "text/plain": [
       "HBox(children=(FloatProgress(value=0.0, max=4800.0), HTML(value='')))"
      ]
     },
     "metadata": {},
     "output_type": "display_data"
    },
    {
     "name": "stdout",
     "output_type": "stream",
     "text": [
      "\n",
      "Epoch :  5 Loss :  0.5293232502180545 Accuracy :  0.8370833333333333\n",
      "\n"
     ]
    },
    {
     "data": {
      "application/vnd.jupyter.widget-view+json": {
       "model_id": "d8b2782d0fb647338e8ae2bd20adb4a9",
       "version_major": 2,
       "version_minor": 0
      },
      "text/plain": [
       "HBox(children=(FloatProgress(value=0.0, max=4800.0), HTML(value='')))"
      ]
     },
     "metadata": {},
     "output_type": "display_data"
    },
    {
     "name": "stdout",
     "output_type": "stream",
     "text": [
      "\n",
      "Epoch :  6 Loss :  0.47085819563616865 Accuracy :  0.8558333333333333\n",
      "\n"
     ]
    },
    {
     "data": {
      "application/vnd.jupyter.widget-view+json": {
       "model_id": "07f06a19a21a4de1ac08da1df8c62df5",
       "version_major": 2,
       "version_minor": 0
      },
      "text/plain": [
       "HBox(children=(FloatProgress(value=0.0, max=4800.0), HTML(value='')))"
      ]
     },
     "metadata": {},
     "output_type": "display_data"
    },
    {
     "name": "stdout",
     "output_type": "stream",
     "text": [
      "\n",
      "Epoch :  7 Loss :  0.4253930055894171 Accuracy :  0.8685416666666667\n",
      "\n"
     ]
    },
    {
     "data": {
      "application/vnd.jupyter.widget-view+json": {
       "model_id": "f6d5184d735e4febb689868a9a34b119",
       "version_major": 2,
       "version_minor": 0
      },
      "text/plain": [
       "HBox(children=(FloatProgress(value=0.0, max=4800.0), HTML(value='')))"
      ]
     },
     "metadata": {},
     "output_type": "display_data"
    },
    {
     "name": "stdout",
     "output_type": "stream",
     "text": [
      "\n",
      "Epoch :  8 Loss :  0.3892037183194111 Accuracy :  0.8804166666666666\n",
      "\n"
     ]
    },
    {
     "data": {
      "application/vnd.jupyter.widget-view+json": {
       "model_id": "d1034507758240839386906d16fe5c00",
       "version_major": 2,
       "version_minor": 0
      },
      "text/plain": [
       "HBox(children=(FloatProgress(value=0.0, max=4800.0), HTML(value='')))"
      ]
     },
     "metadata": {},
     "output_type": "display_data"
    },
    {
     "name": "stdout",
     "output_type": "stream",
     "text": [
      "\n",
      "Epoch :  9 Loss :  0.35794006238397336 Accuracy :  0.8885416666666667\n",
      "\n"
     ]
    },
    {
     "data": {
      "application/vnd.jupyter.widget-view+json": {
       "model_id": "1b2e576ce6d641a99179d327175a0a9e",
       "version_major": 2,
       "version_minor": 0
      },
      "text/plain": [
       "HBox(children=(FloatProgress(value=0.0, max=4800.0), HTML(value='')))"
      ]
     },
     "metadata": {},
     "output_type": "display_data"
    },
    {
     "name": "stdout",
     "output_type": "stream",
     "text": [
      "\n",
      "Epoch :  10 Loss :  0.3309789788246058 Accuracy :  0.8964583333333334\n",
      "\n"
     ]
    }
   ],
   "source": [
    "num_epochs = 10\n",
    "train_length = len(X_train)\n",
    "loss_list = []\n",
    "for epoch in range(num_epochs):\n",
    "    loss_epoch = 0 \n",
    "    accuracy = 0\n",
    "    for input_data, label in tqdm(zip(X_train, Y_train), total = train_length):\n",
    "        input_data = input_data.reshape(1,28,28,1)\n",
    "        label = np.array([label])\n",
    "        label_oh = (np.eye(10)[label.astype(int)]).reshape(1,10)\n",
    "        # Forward Propogation\n",
    "        output = input_data.copy()\n",
    "        for layer in model:\n",
    "            output = layer.forward(output)\n",
    "        # Cross entropy Loss\n",
    "        assert output.shape == label_oh.shape, \"Network Output and Label Dim Don't Match\"\n",
    "        loss_epoch += cross_entropy(output,label)\n",
    "        # Accuracy Check\n",
    "        accuracy += np.mean(label == np.argmax(output, axis=1))\n",
    "        # Backward Propogation, Weight Updation occurs with the classes\n",
    "        backprop_out = delta_cross_entropy(output,label)\n",
    "        for layer in model[::-1]:\n",
    "            backprop_out = layer.backward(backprop_out, learning_rate=0.005)\n",
    "    loss_list.append(loss_epoch)\n",
    "    print(\"Epoch : \", epoch+1, 'Loss : ', loss_epoch/train_length, 'Accuracy : ', accuracy/train_length)\n",
    "    print()"
   ]
  },
  {
   "cell_type": "code",
   "execution_count": 14,
   "metadata": {},
   "outputs": [
    {
     "data": {
      "application/vnd.jupyter.widget-view+json": {
       "model_id": "e216b23da0634b9a8f5e7a69cb96e987",
       "version_major": 2,
       "version_minor": 0
      },
      "text/plain": [
       "HBox(children=(FloatProgress(value=0.0, max=4800.0), HTML(value='')))"
      ]
     },
     "metadata": {},
     "output_type": "display_data"
    },
    {
     "name": "stdout",
     "output_type": "stream",
     "text": [
      "\n",
      "Epoch :  11 Loss :  0.30754601059890146 Accuracy :  0.9035416666666667\n",
      "\n"
     ]
    },
    {
     "data": {
      "application/vnd.jupyter.widget-view+json": {
       "model_id": "7e4f403b09164006afe45c87b322e7ca",
       "version_major": 2,
       "version_minor": 0
      },
      "text/plain": [
       "HBox(children=(FloatProgress(value=0.0, max=4800.0), HTML(value='')))"
      ]
     },
     "metadata": {},
     "output_type": "display_data"
    },
    {
     "name": "stdout",
     "output_type": "stream",
     "text": [
      "\n",
      "Epoch :  12 Loss :  0.2861770225389345 Accuracy :  0.9125\n",
      "\n"
     ]
    },
    {
     "data": {
      "application/vnd.jupyter.widget-view+json": {
       "model_id": "3ffa314ba08643dabbe2d28347f0ef0f",
       "version_major": 2,
       "version_minor": 0
      },
      "text/plain": [
       "HBox(children=(FloatProgress(value=0.0, max=4800.0), HTML(value='')))"
      ]
     },
     "metadata": {},
     "output_type": "display_data"
    },
    {
     "name": "stdout",
     "output_type": "stream",
     "text": [
      "\n",
      "Epoch :  13 Loss :  0.2667843124947442 Accuracy :  0.91875\n",
      "\n"
     ]
    },
    {
     "data": {
      "application/vnd.jupyter.widget-view+json": {
       "model_id": "745d1f3a245649cbb1d97f9c990782c9",
       "version_major": 2,
       "version_minor": 0
      },
      "text/plain": [
       "HBox(children=(FloatProgress(value=0.0, max=4800.0), HTML(value='')))"
      ]
     },
     "metadata": {},
     "output_type": "display_data"
    },
    {
     "name": "stdout",
     "output_type": "stream",
     "text": [
      "\n",
      "Epoch :  14 Loss :  0.24961214871633985 Accuracy :  0.9254166666666667\n",
      "\n"
     ]
    },
    {
     "data": {
      "application/vnd.jupyter.widget-view+json": {
       "model_id": "aa39e1d7d0c14113a966904c5251cf96",
       "version_major": 2,
       "version_minor": 0
      },
      "text/plain": [
       "HBox(children=(FloatProgress(value=0.0, max=4800.0), HTML(value='')))"
      ]
     },
     "metadata": {},
     "output_type": "display_data"
    },
    {
     "name": "stdout",
     "output_type": "stream",
     "text": [
      "\n",
      "Epoch :  15 Loss :  0.23451037792184143 Accuracy :  0.9304166666666667\n",
      "\n"
     ]
    }
   ],
   "source": [
    "# Training for 5 more epochs\n",
    "num_epochs = 15\n",
    "resume_epoch = 10\n",
    "train_length = len(X_train)\n",
    "for epoch in range(resume_epoch, num_epochs):\n",
    "    loss_epoch = 0 \n",
    "    accuracy = 0\n",
    "    for input_data, label in tqdm(zip(X_train, Y_train), total = train_length):\n",
    "        input_data = input_data.reshape(1,28,28,1)\n",
    "        label = np.array([label])\n",
    "        label_oh = (np.eye(10)[label.astype(int)]).reshape(1,10)\n",
    "        # Forward Propogation\n",
    "        output = input_data.copy()\n",
    "        for layer in model:\n",
    "            output = layer.forward(output)\n",
    "        # Cross entropy Loss\n",
    "        assert output.shape == label_oh.shape, \"Network Output and Label Dim Don't Match\"\n",
    "        loss_epoch += cross_entropy(output,label)\n",
    "        # Accuracy Check\n",
    "        accuracy += np.mean(label == np.argmax(output, axis=1))\n",
    "        # Backward Propogation, Weight Updation occurs with the classes\n",
    "        backprop_out = delta_cross_entropy(output,label)\n",
    "        for layer in model[::-1]:\n",
    "            backprop_out = layer.backward(backprop_out, learning_rate=0.005)\n",
    "    loss_list.append(loss_epoch)\n",
    "    print(\"Epoch : \", epoch+1, 'Loss : ', loss_epoch/train_length, 'Accuracy : ', accuracy/train_length)\n",
    "    print()"
   ]
  },
  {
   "cell_type": "code",
   "execution_count": 31,
   "metadata": {},
   "outputs": [
    {
     "data": {
      "application/vnd.jupyter.widget-view+json": {
       "model_id": "aabe41b511164e91bc3817cd4d2fddd8",
       "version_major": 2,
       "version_minor": 0
      },
      "text/plain": [
       "HBox(children=(FloatProgress(value=0.0, max=4800.0), HTML(value='')))"
      ]
     },
     "metadata": {},
     "output_type": "display_data"
    },
    {
     "name": "stdout",
     "output_type": "stream",
     "text": [
      "\n",
      "Epoch :  16 Loss :  0.22174170549462643 Accuracy :  0.934375\n",
      "\n"
     ]
    },
    {
     "data": {
      "application/vnd.jupyter.widget-view+json": {
       "model_id": "58669da4223f477a998c3822fa60ee89",
       "version_major": 2,
       "version_minor": 0
      },
      "text/plain": [
       "HBox(children=(FloatProgress(value=0.0, max=4800.0), HTML(value='')))"
      ]
     },
     "metadata": {},
     "output_type": "display_data"
    },
    {
     "name": "stdout",
     "output_type": "stream",
     "text": [
      "\n",
      "Epoch :  17 Loss :  0.20999103809021658 Accuracy :  0.9397916666666667\n",
      "\n"
     ]
    },
    {
     "data": {
      "application/vnd.jupyter.widget-view+json": {
       "model_id": "f9abcc9026fd4c3daa020c251a90440e",
       "version_major": 2,
       "version_minor": 0
      },
      "text/plain": [
       "HBox(children=(FloatProgress(value=0.0, max=4800.0), HTML(value='')))"
      ]
     },
     "metadata": {},
     "output_type": "display_data"
    },
    {
     "name": "stdout",
     "output_type": "stream",
     "text": [
      "\n",
      "Epoch :  18 Loss :  0.19924805037094914 Accuracy :  0.9414583333333333\n",
      "\n"
     ]
    },
    {
     "data": {
      "application/vnd.jupyter.widget-view+json": {
       "model_id": "183e49d938fc4d4cb142c69530a54953",
       "version_major": 2,
       "version_minor": 0
      },
      "text/plain": [
       "HBox(children=(FloatProgress(value=0.0, max=4800.0), HTML(value='')))"
      ]
     },
     "metadata": {},
     "output_type": "display_data"
    },
    {
     "name": "stdout",
     "output_type": "stream",
     "text": [
      "\n",
      "Epoch :  19 Loss :  0.1896234735027401 Accuracy :  0.9435416666666666\n",
      "\n"
     ]
    },
    {
     "data": {
      "application/vnd.jupyter.widget-view+json": {
       "model_id": "7dee77408ba14dcbbf2c0f8206257a1e",
       "version_major": 2,
       "version_minor": 0
      },
      "text/plain": [
       "HBox(children=(FloatProgress(value=0.0, max=4800.0), HTML(value='')))"
      ]
     },
     "metadata": {},
     "output_type": "display_data"
    },
    {
     "name": "stdout",
     "output_type": "stream",
     "text": [
      "\n",
      "Epoch :  20 Loss :  0.18063247390368198 Accuracy :  0.9472916666666666\n",
      "\n"
     ]
    }
   ],
   "source": [
    "# Training for 5 more epochs\n",
    "num_epochs = 20\n",
    "resume_epoch = 15\n",
    "train_length = len(X_train)\n",
    "for epoch in range(resume_epoch, num_epochs):\n",
    "    loss_epoch = 0 \n",
    "    accuracy = 0\n",
    "    for input_data, label in tqdm(zip(X_train, Y_train), total = train_length):\n",
    "        input_data = input_data.reshape(1,28,28,1)\n",
    "        label = np.array([label])\n",
    "        label_oh = (np.eye(10)[label.astype(int)]).reshape(1,10)\n",
    "        # Forward Propogation\n",
    "        output = input_data.copy()\n",
    "        for layer in model:\n",
    "            output = layer.forward(output)\n",
    "        # Cross entropy Loss\n",
    "        assert output.shape == label_oh.shape, \"Network Output and Label Dim Don't Match\"\n",
    "        loss_epoch += cross_entropy(output,label)\n",
    "        # Accuracy Check\n",
    "        accuracy += np.mean(label == np.argmax(output, axis=1))\n",
    "        # Backward Propogation, Weight Updation occurs with the classes\n",
    "        backprop_out = delta_cross_entropy(output,label)\n",
    "        for layer in model[::-1]:\n",
    "            backprop_out = layer.backward(backprop_out, learning_rate=0.005)\n",
    "    loss_list.append(loss_epoch)\n",
    "    print(\"Epoch : \", epoch+1, 'Loss : ', loss_epoch/train_length, 'Accuracy : ', accuracy/train_length)\n",
    "    print()"
   ]
  },
  {
   "cell_type": "markdown",
   "metadata": {
    "colab_type": "text",
    "id": "PiymY_qPebu2"
   },
   "source": [
    "# Plot Loss"
   ]
  },
  {
   "cell_type": "code",
   "execution_count": 32,
   "metadata": {
    "colab": {
     "base_uri": "https://localhost:8080/",
     "height": 281
    },
    "colab_type": "code",
    "id": "j-hO0eiKedbS",
    "outputId": "bb8e9460-9073-44ef-d58b-88d4e3cac3fa"
   },
   "outputs": [
    {
     "data": {
      "image/png": "[encoded data removed]",
      "text/plain": [
       "<Figure size 432x288 with 1 Axes>"
      ]
     },
     "metadata": {
      "needs_background": "light"
     },
     "output_type": "display_data"
    }
   ],
   "source": [
    "plt.plot(np.arange(1,21), loss_list)\n",
    "plt.title('Loss vs Epochs')\n",
    "plt.xlabel('Epoch')\n",
    "plt.ylabel('Loss')\n",
    "plt.show()"
   ]
  },
  {
   "cell_type": "markdown",
   "metadata": {
    "colab_type": "text",
    "id": "9wcesjOYeaiT"
   },
   "source": [
    "# Test"
   ]
  },
  {
   "cell_type": "code",
   "execution_count": 35,
   "metadata": {
    "colab": {
     "base_uri": "https://localhost:8080/",
     "height": 82,
     "referenced_widgets": [
      "a4c348bc738a483f8dafdd01bc6cf7ed",
      "fa74b47a01c842e9ad2352f42fd49944",
      "0f853f38f1444a678d71917f339b73fe",
      "a37011d0c0f04548a748d2b18785ec96",
      "1c1954630645448795cda910c64a2e8f",
      "0d1981de55af4c088695ea8a55076bfb",
      "63c02eeff8074881bbb2ccb6fc3c35b8",
      "243f976ef6d440189e00df97f0cf467c"
     ]
    },
    "colab_type": "code",
    "id": "o9O4adVhD0Ev",
    "outputId": "548d7791-81e2-4886-b766-88273275131d"
   },
   "outputs": [
    {
     "name": "stdout",
     "output_type": "stream",
     "text": [
      "Test accuracy :  0.9166666666666666\n"
     ]
    }
   ],
   "source": [
    "test_length = len(X_test)\n",
    "loss = 0 \n",
    "accuracy = 0\n",
    "gt_list = []\n",
    "pred_list = []\n",
    "for input_data, label in zip(X_test, Y_test):\n",
    "    input_data = input_data.reshape(1,28,28,1)\n",
    "    label = np.array([label])\n",
    "    label_oh = (np.eye(10)[label.astype(int)]).reshape(1,10)\n",
    "    # Forward Propogation\n",
    "    output = input_data.copy()\n",
    "    for layer in model:\n",
    "        output = layer.forward(output)\n",
    "    assert output.shape == label_oh.shape, \"Network Output and Label Dim Don't Match\"\n",
    "    # Accuracy Check\n",
    "    accuracy += np.mean(label == np.argmax(output, axis=1))\n",
    "    gt_list.append(label)\n",
    "    pred_list.append(np.argmax(output,axis=1))\n",
    "print('Test accuracy : ', accuracy/test_length)"
   ]
  },
  {
   "cell_type": "code",
   "execution_count": 36,
   "metadata": {},
   "outputs": [],
   "source": [
    "from sklearn.metrics import classification_report, confusion_matrix"
   ]
  },
  {
   "cell_type": "markdown",
   "metadata": {},
   "source": [
    "# Classification Report"
   ]
  },
  {
   "cell_type": "code",
   "execution_count": 40,
   "metadata": {},
   "outputs": [
    {
     "name": "stdout",
     "output_type": "stream",
     "text": [
      "Classification Report\n",
      "\n",
      "              precision    recall  f1-score   support\n",
      "\n",
      "         0.0       0.96      0.95      0.95       122\n",
      "         1.0       0.99      0.98      0.99       135\n",
      "         2.0       0.84      0.91      0.87       110\n",
      "         3.0       0.95      0.79      0.87       106\n",
      "         4.0       0.98      0.90      0.94       136\n",
      "         5.0       0.89      0.89      0.89        96\n",
      "         6.0       0.91      0.96      0.93       110\n",
      "         7.0       0.97      0.92      0.94       156\n",
      "         8.0       0.79      0.88      0.83       110\n",
      "         9.0       0.87      0.96      0.91       119\n",
      "\n",
      "    accuracy                           0.92      1200\n",
      "   macro avg       0.92      0.91      0.91      1200\n",
      "weighted avg       0.92      0.92      0.92      1200\n",
      "\n"
     ]
    }
   ],
   "source": [
    "print(\"Classification Report\\n\")\n",
    "print(classification_report(gt_list, pred_list))"
   ]
  },
  {
   "cell_type": "markdown",
   "metadata": {},
   "source": [
    "# Confusion Matrix"
   ]
  },
  {
   "cell_type": "code",
   "execution_count": 41,
   "metadata": {},
   "outputs": [
    {
     "name": "stdout",
     "output_type": "stream",
     "text": [
      "Confusion Matrix\n",
      "\n",
      "[[116   0   2   0   1   1   1   0   1   0]\n",
      " [  0 132   1   0   0   0   0   0   2   0]\n",
      " [  1   1 100   2   1   0   0   1   3   1]\n",
      " [  0   0   4  84   0   7   0   2   9   0]\n",
      " [  0   0   3   0 123   0   3   0   0   7]\n",
      " [  1   0   1   0   0  85   4   0   4   1]\n",
      " [  1   0   0   0   0   1 106   0   2   0]\n",
      " [  1   0   3   0   0   0   1 143   2   6]\n",
      " [  1   0   4   2   0   2   2   0  97   2]\n",
      " [  0   0   1   0   0   0   0   1   3 114]]\n"
     ]
    }
   ],
   "source": [
    "print(\"Confusion Matrix\\n\")\n",
    "print(confusion_matrix(gt_list, pred_list))"
   ]
  },
  {
   "cell_type": "markdown",
   "metadata": {
    "colab_type": "text",
    "id": "fX0ZbmuQv34y"
   },
   "source": [
    "# Test on images"
   ]
  },
  {
   "cell_type": "code",
   "execution_count": 42,
   "metadata": {
    "colab": {},
    "colab_type": "code",
    "id": "SveRnMdrvx6j"
   },
   "outputs": [
    {
     "data": {
      "image/png": "[encoded data removed]",
      "text/plain": [
       "<Figure size 432x288 with 1 Axes>"
      ]
     },
     "metadata": {
      "needs_background": "light"
     },
     "output_type": "display_data"
    },
    {
     "name": "stdout",
     "output_type": "stream",
     "text": [
      "Predicted Label :  [9]\n",
      "Ground truth label :  9.0\n"
     ]
    }
   ],
   "source": [
    "TEST_IMG_NO = 100\n",
    "test_img = X_test[TEST_IMG_NO]\n",
    "test_img = np.reshape(test_img, (1,28,28,1)) # adding batch dimension to image\n",
    "plt.imshow(test_img[0,:,:,0])\n",
    "plt.title(\"Test Image\")\n",
    "plt.show()\n",
    "\n",
    "output = test_img.copy()\n",
    "for layer in model:\n",
    "    output = layer.forward(output)\n",
    "pred_label = np.argmax(output, axis=1)\n",
    "gt_label = Y_test[TEST_IMG_NO]\n",
    "\n",
    "print(\"Predicted Label : \", pred_label)\n",
    "print(\"Ground truth label : \", gt_label)"
   ]
  },
  {
   "cell_type": "code",
   "execution_count": 43,
   "metadata": {
    "colab": {},
    "colab_type": "code",
    "id": "TVdA7w98x8zC"
   },
   "outputs": [
    {
     "data": {
      "image/png": "[encoded data removed]",
      "text/plain": [
       "<Figure size 432x288 with 1 Axes>"
      ]
     },
     "metadata": {
      "needs_background": "light"
     },
     "output_type": "display_data"
    },
    {
     "name": "stdout",
     "output_type": "stream",
     "text": [
      "Predicted Label :  [7]\n",
      "Ground truth label :  7.0\n"
     ]
    }
   ],
   "source": [
    "TEST_IMG_NO = 10\n",
    "test_img = X_test[TEST_IMG_NO]\n",
    "test_img = np.reshape(test_img, (1,28,28,1)) # adding batch dimension to image\n",
    "plt.imshow(test_img[0,:,:,0])\n",
    "plt.title(\"Test Image\")\n",
    "plt.show()\n",
    "\n",
    "output = test_img.copy()\n",
    "for layer in model:\n",
    "    output = layer.forward(output)\n",
    "pred_label = np.argmax(output,axis=1)\n",
    "gt_label = Y_test[TEST_IMG_NO]\n",
    "\n",
    "print(\"Predicted Label : \", pred_label)\n",
    "print(\"Ground truth label : \", gt_label)"
   ]
  }
 ],
 "metadata": {
  "anaconda-cloud": {},
  "colab": {
   "collapsed_sections": [],
   "name": "Manan's Copy of DL_Assign5Qns.ipynb",
   "provenance": [],
   "toc_visible": true
  },
  "kernelspec": {
   "display_name": "Python 3",
   "language": "python",
   "name": "python3"
  },
  "language_info": {
   "codemirror_mode": {
    "name": "ipython",
    "version": 3
   },
   "file_extension": ".py",
   "mimetype": "text/x-python",
   "name": "python",
   "nbconvert_exporter": "python",
   "pygments_lexer": "ipython3",
   "version": "3.7.3"
  },
  "widgets": {
   "application/vnd.jupyter.widget-state+json": {
    "02bd46670bb84d1c91cf1b3caa0c7e24": {
     "model_module": "@jupyter-widgets/controls",
     "model_name": "HTMLModel",
     "state": {
      "_dom_classes": [],
      "_model_module": "@jupyter-widgets/controls",
      "_model_module_version": "1.5.0",
      "_model_name": "HTMLModel",
      "_view_count": null,
      "_view_module": "@jupyter-widgets/controls",
      "_view_module_version": "1.5.0",
      "_view_name": "HTMLView",
      "description": "",
      "description_tooltip": null,
      "layout": "IPY_MODEL_7910066bb3434834b9b6d31fd45b8d64",
      "placeholder": "​",
      "style": "IPY_MODEL_8441c2a371e14f8e85ff8ba166884fbd",
      "value": " 1348/3200 [05:31&lt;07:22,  4.19it/s]"
     }
    },
    "0d1981de55af4c088695ea8a55076bfb": {
     "model_module": "@jupyter-widgets/base",
     "model_name": "LayoutModel",
     "state": {
      "_model_module": "@jupyter-widgets/base",
      "_model_module_version": "1.2.0",
      "_model_name": "LayoutModel",
      "_view_count": null,
      "_view_module": "@jupyter-widgets/base",
      "_view_module_version": "1.2.0",
      "_view_name": "LayoutView",
      "align_content": null,
      "align_items": null,
      "align_self": null,
      "border": null,
      "bottom": null,
      "display": null,
      "flex": null,
      "flex_flow": null,
      "grid_area": null,
      "grid_auto_columns": null,
      "grid_auto_flow": null,
      "grid_auto_rows": null,
      "grid_column": null,
      "grid_gap": null,
      "grid_row": null,
      "grid_template_areas": null,
      "grid_template_columns": null,
      "grid_template_rows": null,
      "height": null,
      "justify_content": null,
      "justify_items": null,
      "left": null,
      "margin": null,
      "max_height": null,
      "max_width": null,
      "min_height": null,
      "min_width": null,
      "object_fit": null,
      "object_position": null,
      "order": null,
      "overflow": null,
      "overflow_x": null,
      "overflow_y": null,
      "padding": null,
      "right": null,
      "top": null,
      "visibility": null,
      "width": null
     }
    },
    "0f853f38f1444a678d71917f339b73fe": {
     "model_module": "@jupyter-widgets/controls",
     "model_name": "FloatProgressModel",
     "state": {
      "_dom_classes": [],
      "_model_module": "@jupyter-widgets/controls",
      "_model_module_version": "1.5.0",
      "_model_name": "FloatProgressModel",
      "_view_count": null,
      "_view_module": "@jupyter-widgets/controls",
      "_view_module_version": "1.5.0",
      "_view_name": "ProgressView",
      "bar_style": "success",
      "description": "100%",
      "description_tooltip": null,
      "layout": "IPY_MODEL_0d1981de55af4c088695ea8a55076bfb",
      "max": 1500,
      "min": 0,
      "orientation": "horizontal",
      "style": "IPY_MODEL_1c1954630645448795cda910c64a2e8f",
      "value": 1500
     }
    },
    "1c1954630645448795cda910c64a2e8f": {
     "model_module": "@jupyter-widgets/controls",
     "model_name": "ProgressStyleModel",
     "state": {
      "_model_module": "@jupyter-widgets/controls",
      "_model_module_version": "1.5.0",
      "_model_name": "ProgressStyleModel",
      "_view_count": null,
      "_view_module": "@jupyter-widgets/base",
      "_view_module_version": "1.2.0",
      "_view_name": "StyleView",
      "bar_color": null,
      "description_width": "initial"
     }
    },
    "243f976ef6d440189e00df97f0cf467c": {
     "model_module": "@jupyter-widgets/base",
     "model_name": "LayoutModel",
     "state": {
      "_model_module": "@jupyter-widgets/base",
      "_model_module_version": "1.2.0",
      "_model_name": "LayoutModel",
      "_view_count": null,
      "_view_module": "@jupyter-widgets/base",
      "_view_module_version": "1.2.0",
      "_view_name": "LayoutView",
      "align_content": null,
      "align_items": null,
      "align_self": null,
      "border": null,
      "bottom": null,
      "display": null,
      "flex": null,
      "flex_flow": null,
      "grid_area": null,
      "grid_auto_columns": null,
      "grid_auto_flow": null,
      "grid_auto_rows": null,
      "grid_column": null,
      "grid_gap": null,
      "grid_row": null,
      "grid_template_areas": null,
      "grid_template_columns": null,
      "grid_template_rows": null,
      "height": null,
      "justify_content": null,
      "justify_items": null,
      "left": null,
      "margin": null,
      "max_height": null,
      "max_width": null,
      "min_height": null,
      "min_width": null,
      "object_fit": null,
      "object_position": null,
      "order": null,
      "overflow": null,
      "overflow_x": null,
      "overflow_y": null,
      "padding": null,
      "right": null,
      "top": null,
      "visibility": null,
      "width": null
     }
    },
    "342bcc9d813a45e5ba5e508e971a2778": {
     "model_module": "@jupyter-widgets/controls",
     "model_name": "FloatProgressModel",
     "state": {
      "_dom_classes": [],
      "_model_module": "@jupyter-widgets/controls",
      "_model_module_version": "1.5.0",
      "_model_name": "FloatProgressModel",
      "_view_count": null,
      "_view_module": "@jupyter-widgets/controls",
      "_view_module_version": "1.5.0",
      "_view_name": "ProgressView",
      "bar_style": "",
      "description": " 42%",
      "description_tooltip": null,
      "layout": "IPY_MODEL_dc21b29d7f9541e9be6fe4747b6604ac",
      "max": 3200,
      "min": 0,
      "orientation": "horizontal",
      "style": "IPY_MODEL_e2fcdf429f2b4e179189fc19b5fde704",
      "value": 1348
     }
    },
    "63c02eeff8074881bbb2ccb6fc3c35b8": {
     "model_module": "@jupyter-widgets/controls",
     "model_name": "DescriptionStyleModel",
     "state": {
      "_model_module": "@jupyter-widgets/controls",
      "_model_module_version": "1.5.0",
      "_model_name": "DescriptionStyleModel",
      "_view_count": null,
      "_view_module": "@jupyter-widgets/base",
      "_view_module_version": "1.2.0",
      "_view_name": "StyleView",
      "description_width": ""
     }
    },
    "7910066bb3434834b9b6d31fd45b8d64": {
     "model_module": "@jupyter-widgets/base",
     "model_name": "LayoutModel",
     "state": {
      "_model_module": "@jupyter-widgets/base",
      "_model_module_version": "1.2.0",
      "_model_name": "LayoutModel",
      "_view_count": null,
      "_view_module": "@jupyter-widgets/base",
      "_view_module_version": "1.2.0",
      "_view_name": "LayoutView",
      "align_content": null,
      "align_items": null,
      "align_self": null,
      "border": null,
      "bottom": null,
      "display": null,
      "flex": null,
      "flex_flow": null,
      "grid_area": null,
      "grid_auto_columns": null,
      "grid_auto_flow": null,
      "grid_auto_rows": null,
      "grid_column": null,
      "grid_gap": null,
      "grid_row": null,
      "grid_template_areas": null,
      "grid_template_columns": null,
      "grid_template_rows": null,
      "height": null,
      "justify_content": null,
      "justify_items": null,
      "left": null,
      "margin": null,
      "max_height": null,
      "max_width": null,
      "min_height": null,
      "min_width": null,
      "object_fit": null,
      "object_position": null,
      "order": null,
      "overflow": null,
      "overflow_x": null,
      "overflow_y": null,
      "padding": null,
      "right": null,
      "top": null,
      "visibility": null,
      "width": null
     }
    },
    "8441c2a371e14f8e85ff8ba166884fbd": {
     "model_module": "@jupyter-widgets/controls",
     "model_name": "DescriptionStyleModel",
     "state": {
      "_model_module": "@jupyter-widgets/controls",
      "_model_module_version": "1.5.0",
      "_model_name": "DescriptionStyleModel",
      "_view_count": null,
      "_view_module": "@jupyter-widgets/base",
      "_view_module_version": "1.2.0",
      "_view_name": "StyleView",
      "description_width": ""
     }
    },
    "a129cc23368f42e6a4984c3856151768": {
     "model_module": "@jupyter-widgets/controls",
     "model_name": "HBoxModel",
     "state": {
      "_dom_classes": [],
      "_model_module": "@jupyter-widgets/controls",
      "_model_module_version": "1.5.0",
      "_model_name": "HBoxModel",
      "_view_count": null,
      "_view_module": "@jupyter-widgets/controls",
      "_view_module_version": "1.5.0",
      "_view_name": "HBoxView",
      "box_style": "",
      "children": [
       "IPY_MODEL_342bcc9d813a45e5ba5e508e971a2778",
       "IPY_MODEL_02bd46670bb84d1c91cf1b3caa0c7e24"
      ],
      "layout": "IPY_MODEL_d4783a4da9464489a9de103a8b1e29f0"
     }
    },
    "a37011d0c0f04548a748d2b18785ec96": {
     "model_module": "@jupyter-widgets/controls",
     "model_name": "HTMLModel",
     "state": {
      "_dom_classes": [],
      "_model_module": "@jupyter-widgets/controls",
      "_model_module_version": "1.5.0",
      "_model_name": "HTMLModel",
      "_view_count": null,
      "_view_module": "@jupyter-widgets/controls",
      "_view_module_version": "1.5.0",
      "_view_name": "HTMLView",
      "description": "",
      "description_tooltip": null,
      "layout": "IPY_MODEL_243f976ef6d440189e00df97f0cf467c",
      "placeholder": "​",
      "style": "IPY_MODEL_63c02eeff8074881bbb2ccb6fc3c35b8",
      "value": " 1500/1500 [02:53&lt;00:00,  8.63it/s]"
     }
    },
    "a4c348bc738a483f8dafdd01bc6cf7ed": {
     "model_module": "@jupyter-widgets/controls",
     "model_name": "HBoxModel",
     "state": {
      "_dom_classes": [],
      "_model_module": "@jupyter-widgets/controls",
      "_model_module_version": "1.5.0",
      "_model_name": "HBoxModel",
      "_view_count": null,
      "_view_module": "@jupyter-widgets/controls",
      "_view_module_version": "1.5.0",
      "_view_name": "HBoxView",
      "box_style": "",
      "children": [
       "IPY_MODEL_0f853f38f1444a678d71917f339b73fe",
       "IPY_MODEL_a37011d0c0f04548a748d2b18785ec96"
      ],
      "layout": "IPY_MODEL_fa74b47a01c842e9ad2352f42fd49944"
     }
    },
    "d4783a4da9464489a9de103a8b1e29f0": {
     "model_module": "@jupyter-widgets/base",
     "model_name": "LayoutModel",
     "state": {
      "_model_module": "@jupyter-widgets/base",
      "_model_module_version": "1.2.0",
      "_model_name": "LayoutModel",
      "_view_count": null,
      "_view_module": "@jupyter-widgets/base",
      "_view_module_version": "1.2.0",
      "_view_name": "LayoutView",
      "align_content": null,
      "align_items": null,
      "align_self": null,
      "border": null,
      "bottom": null,
      "display": null,
      "flex": null,
      "flex_flow": null,
      "grid_area": null,
      "grid_auto_columns": null,
      "grid_auto_flow": null,
      "grid_auto_rows": null,
      "grid_column": null,
      "grid_gap": null,
      "grid_row": null,
      "grid_template_areas": null,
      "grid_template_columns": null,
      "grid_template_rows": null,
      "height": null,
      "justify_content": null,
      "justify_items": null,
      "left": null,
      "margin": null,
      "max_height": null,
      "max_width": null,
      "min_height": null,
      "min_width": null,
      "object_fit": null,
      "object_position": null,
      "order": null,
      "overflow": null,
      "overflow_x": null,
      "overflow_y": null,
      "padding": null,
      "right": null,
      "top": null,
      "visibility": null,
      "width": null
     }
    },
    "dc21b29d7f9541e9be6fe4747b6604ac": {
     "model_module": "@jupyter-widgets/base",
     "model_name": "LayoutModel",
     "state": {
      "_model_module": "@jupyter-widgets/base",
      "_model_module_version": "1.2.0",
      "_model_name": "LayoutModel",
      "_view_count": null,
      "_view_module": "@jupyter-widgets/base",
      "_view_module_version": "1.2.0",
      "_view_name": "LayoutView",
      "align_content": null,
      "align_items": null,
      "align_self": null,
      "border": null,
      "bottom": null,
      "display": null,
      "flex": null,
      "flex_flow": null,
      "grid_area": null,
      "grid_auto_columns": null,
      "grid_auto_flow": null,
      "grid_auto_rows": null,
      "grid_column": null,
      "grid_gap": null,
      "grid_row": null,
      "grid_template_areas": null,
      "grid_template_columns": null,
      "grid_template_rows": null,
      "height": null,
      "justify_content": null,
      "justify_items": null,
      "left": null,
      "margin": null,
      "max_height": null,
      "max_width": null,
      "min_height": null,
      "min_width": null,
      "object_fit": null,
      "object_position": null,
      "order": null,
      "overflow": null,
      "overflow_x": null,
      "overflow_y": null,
      "padding": null,
      "right": null,
      "top": null,
      "visibility": null,
      "width": null
     }
    },
    "e2fcdf429f2b4e179189fc19b5fde704": {
     "model_module": "@jupyter-widgets/controls",
     "model_name": "ProgressStyleModel",
     "state": {
      "_model_module": "@jupyter-widgets/controls",
      "_model_module_version": "1.5.0",
      "_model_name": "ProgressStyleModel",
      "_view_count": null,
      "_view_module": "@jupyter-widgets/base",
      "_view_module_version": "1.2.0",
      "_view_name": "StyleView",
      "bar_color": null,
      "description_width": "initial"
     }
    },
    "fa74b47a01c842e9ad2352f42fd49944": {
     "model_module": "@jupyter-widgets/base",
     "model_name": "LayoutModel",
     "state": {
      "_model_module": "@jupyter-widgets/base",
      "_model_module_version": "1.2.0",
      "_model_name": "LayoutModel",
      "_view_count": null,
      "_view_module": "@jupyter-widgets/base",
      "_view_module_version": "1.2.0",
      "_view_name": "LayoutView",
      "align_content": null,
      "align_items": null,
      "align_self": null,
      "border": null,
      "bottom": null,
      "display": null,
      "flex": null,
      "flex_flow": null,
      "grid_area": null,
      "grid_auto_columns": null,
      "grid_auto_flow": null,
      "grid_auto_rows": null,
      "grid_column": null,
      "grid_gap": null,
      "grid_row": null,
      "grid_template_areas": null,
      "grid_template_columns": null,
      "grid_template_rows": null,
      "height": null,
      "justify_content": null,
      "justify_items": null,
      "left": null,
      "margin": null,
      "max_height": null,
      "max_width": null,
      "min_height": null,
      "min_width": null,
      "object_fit": null,
      "object_position": null,
      "order": null,
      "overflow": null,
      "overflow_x": null,
      "overflow_y": null,
      "padding": null,
      "right": null,
      "top": null,
      "visibility": null,
      "width": null
     }
    }
   }
  }
 },
 "nbformat": 4,
 "nbformat_minor": 1
}

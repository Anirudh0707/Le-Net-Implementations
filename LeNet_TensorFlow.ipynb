{
 "cells": [
  {
   "cell_type": "markdown",
   "metadata": {},
   "source": [
    "# LeNet Code in Tensorflow\n",
    "\n",
    "Authors: Anirudh BH, Manan Sharma"
   ]
  },
  {
   "cell_type": "markdown",
   "metadata": {},
   "source": [
    "Import all Libraries"
   ]
  },
  {
   "cell_type": "code",
   "execution_count": 0,
   "metadata": {
    "colab": {},
    "colab_type": "code",
    "id": "sRKKW6AHIehZ"
   },
   "outputs": [],
   "source": [
    "# Uncomment this line when using Google Colab\n",
    "# %tensorflow_version 2.x\n",
    "import numpy as np\n",
    "import tensorflow as tf\n",
    "import matplotlib.pyplot as plt"
   ]
  },
  {
   "cell_type": "markdown",
   "metadata": {},
   "source": [
    "# Import the Dataset\n",
    "\n",
    "The MNIST Dataset is avaiable in the Keras library. IT can be directly imported from it"
   ]
  },
  {
   "cell_type": "code",
   "execution_count": 2,
   "metadata": {
    "colab": {
     "base_uri": "https://localhost:8080/",
     "height": 51
    },
    "colab_type": "code",
    "id": "xycnDLNII7zB",
    "outputId": "c1e4eabb-33a3-4abc-e9d9-d20b5b799511"
   },
   "outputs": [
    {
     "name": "stdout",
     "output_type": "stream",
     "text": [
      "Downloading data from https://storage.googleapis.com/tensorflow/tf-keras-datasets/mnist.npz\n",
      "11493376/11490434 [==============================] - 0s 0us/step\n"
     ]
    }
   ],
   "source": [
    "(x_train, y_train), (x_test, y_test) = tf.keras.datasets.mnist.load_data()"
   ]
  },
  {
   "cell_type": "markdown",
   "metadata": {},
   "source": [
    "# Model Definition\n",
    "\n",
    "Define the LeNet Model uding the Sequential block in tf.keras.<br/>\n",
    "\n",
    "The base paper for the LeNet architecture can be found [here](http://yann.lecun.com/exdb/publis/pdf/lecun-01a.pdf)"
   ]
  },
  {
   "cell_type": "code",
   "execution_count": 3,
   "metadata": {
    "colab": {
     "base_uri": "https://localhost:8080/",
     "height": 493
    },
    "colab_type": "code",
    "id": "vFmOk52MJUwP",
    "outputId": "5b622331-8ff2-48ac-db49-84a0c2d299a1"
   },
   "outputs": [
    {
     "name": "stdout",
     "output_type": "stream",
     "text": [
      "Model: \"sequential\"\n",
      "_________________________________________________________________\n",
      "Layer (type)                 Output Shape              Param #   \n",
      "=================================================================\n",
      "conv2d (Conv2D)              (None, 28, 28, 6)         156       \n",
      "_________________________________________________________________\n",
      "average_pooling2d (AveragePo (None, 14, 14, 6)         0         \n",
      "_________________________________________________________________\n",
      "activation (Activation)      (None, 14, 14, 6)         0         \n",
      "_________________________________________________________________\n",
      "conv2d_1 (Conv2D)            (None, 10, 10, 16)        2416      \n",
      "_________________________________________________________________\n",
      "average_pooling2d_1 (Average (None, 5, 5, 16)          0         \n",
      "_________________________________________________________________\n",
      "activation_1 (Activation)    (None, 5, 5, 16)          0         \n",
      "_________________________________________________________________\n",
      "conv2d_2 (Conv2D)            (None, 1, 1, 120)         48120     \n",
      "_________________________________________________________________\n",
      "flatten (Flatten)            (None, 120)               0         \n",
      "_________________________________________________________________\n",
      "dense (Dense)                (None, 84)                10164     \n",
      "_________________________________________________________________\n",
      "dense_1 (Dense)              (None, 10)                850       \n",
      "=================================================================\n",
      "Total params: 61,706\n",
      "Trainable params: 61,706\n",
      "Non-trainable params: 0\n",
      "_________________________________________________________________\n"
     ]
    }
   ],
   "source": [
    "model = tf.keras.Sequential([\n",
    "                             tf.keras.layers.Input(shape=(28,28,1)),\n",
    "                             tf.keras.layers.Conv2D(6,(5,5), activation=tf.keras.activations.tanh, padding='same'),\n",
    "                             tf.keras.layers.AveragePooling2D(pool_size=(2,2), strides=(2,2)),\n",
    "                             tf.keras.layers.Activation(tf.nn.tanh),\n",
    "                             tf.keras.layers.Conv2D(16,(5,5), activation=tf.keras.activations.tanh),\n",
    "                             tf.keras.layers.AveragePooling2D(pool_size=(2,2), strides=(2,2)),\n",
    "                             tf.keras.layers.Activation(tf.nn.tanh),\n",
    "                             tf.keras.layers.Conv2D(120, (5,5), activation=tf.keras.activations.tanh),\n",
    "                             tf.keras.layers.Flatten(),\n",
    "                             tf.keras.layers.Dense(84, activation=tf.keras.activations.tanh),\n",
    "                             tf.keras.layers.Dense(10, activation=tf.keras.activations.softmax)\n",
    "])\n",
    "\n",
    "model.summary()"
   ]
  },
  {
   "cell_type": "markdown",
   "metadata": {},
   "source": [
    "# Model Compilation\n",
    "\n",
    "Add the Loss functions and the Optimizer to the model.<br/>\n",
    "The Loss function used here is the Sparse Categorical Cross Entropy.<br/>\n",
    "The Optimizer used is the Adam Optimizer.<br/>"
   ]
  },
  {
   "cell_type": "code",
   "execution_count": 0,
   "metadata": {
    "colab": {},
    "colab_type": "code",
    "id": "o0QVKYzbOMq9"
   },
   "outputs": [],
   "source": [
    "model.compile(optimizer=tf.keras.optimizers.Adam(),  # Optimizer\n",
    "              # Loss function to minimize\n",
    "              loss=tf.keras.losses.SparseCategoricalCrossentropy(from_logits=True),\n",
    "              # List of metrics to monitor\n",
    "              metrics=['sparse_categorical_accuracy'])"
   ]
  },
  {
   "cell_type": "markdown",
   "metadata": {},
   "source": [
    "# Model Fitting\n",
    "\n",
    "The defined LeNet model is fitted on the the Training data (MNIST).<br/>\n",
    "Batch Size is kept as 64..<br/>\n",
    "The Model is run for 12 epochs"
   ]
  },
  {
   "cell_type": "code",
   "execution_count": 5,
   "metadata": {
    "colab": {
     "base_uri": "https://localhost:8080/",
     "height": 442
    },
    "colab_type": "code",
    "id": "WLeNzC2VQTjh",
    "outputId": "88078ace-576c-4ad2-a436-081485037d4c"
   },
   "outputs": [
    {
     "name": "stdout",
     "output_type": "stream",
     "text": [
      "# Fit model on training data\n",
      "Epoch 1/12\n",
      "938/938 [==============================] - 5s 5ms/step - loss: 1.5358 - sparse_categorical_accuracy: 0.9403\n",
      "Epoch 2/12\n",
      "938/938 [==============================] - 5s 5ms/step - loss: 1.4876 - sparse_categorical_accuracy: 0.9761\n",
      "Epoch 3/12\n",
      "938/938 [==============================] - 5s 5ms/step - loss: 1.4820 - sparse_categorical_accuracy: 0.9806\n",
      "Epoch 4/12\n",
      "938/938 [==============================] - 5s 5ms/step - loss: 1.4780 - sparse_categorical_accuracy: 0.9846\n",
      "Epoch 5/12\n",
      "938/938 [==============================] - 5s 5ms/step - loss: 1.4767 - sparse_categorical_accuracy: 0.9855\n",
      "Epoch 6/12\n",
      "938/938 [==============================] - 5s 5ms/step - loss: 1.4749 - sparse_categorical_accuracy: 0.9873\n",
      "Epoch 7/12\n",
      "938/938 [==============================] - 5s 5ms/step - loss: 1.4732 - sparse_categorical_accuracy: 0.9885\n",
      "Epoch 8/12\n",
      "938/938 [==============================] - 5s 5ms/step - loss: 1.4724 - sparse_categorical_accuracy: 0.9894\n",
      "Epoch 9/12\n",
      "938/938 [==============================] - 5s 5ms/step - loss: 1.4718 - sparse_categorical_accuracy: 0.9901\n",
      "Epoch 10/12\n",
      "938/938 [==============================] - 5s 5ms/step - loss: 1.4712 - sparse_categorical_accuracy: 0.9907\n",
      "Epoch 11/12\n",
      "938/938 [==============================] - 5s 5ms/step - loss: 1.4714 - sparse_categorical_accuracy: 0.9904\n",
      "Epoch 12/12\n",
      "938/938 [==============================] - 5s 5ms/step - loss: 1.4698 - sparse_categorical_accuracy: 0.9917\n"
     ]
    }
   ],
   "source": [
    "print('# Fit model on training data')\n",
    "history = model.fit(x_train[:,:,:,np.newaxis], y_train,\n",
    "                    batch_size=64,\n",
    "                    epochs=12)"
   ]
  },
  {
   "cell_type": "markdown",
   "metadata": {},
   "source": [
    "# Plot the Traning Loss"
   ]
  },
  {
   "cell_type": "code",
   "execution_count": 6,
   "metadata": {
    "colab": {
     "base_uri": "https://localhost:8080/",
     "height": 319
    },
    "colab_type": "code",
    "id": "bZt1KcssKi1n",
    "outputId": "1a709f13-9bf8-403d-9cef-2638c18dddfc"
   },
   "outputs": [
    {
     "name": "stdout",
     "output_type": "stream",
     "text": [
      "\n",
      "history dict: {'loss': [1.5357530117034912, 1.487646222114563, 1.4820129871368408, 1.4779502153396606, 1.4767131805419922, 1.4748766422271729, 1.4731944799423218, 1.4724071025848389, 1.4717592000961304, 1.4711942672729492, 1.4714479446411133, 1.4698097705841064], 'sparse_categorical_accuracy': [0.9402833580970764, 0.9761333465576172, 0.980566680431366, 0.9845666885375977, 0.985450029373169, 0.987333357334137, 0.9884999990463257, 0.9894333481788635, 0.990149974822998, 0.9906833171844482, 0.9903666377067566, 0.9917166829109192]}\n"
     ]
    },
    {
     "data": {
      "image/png": "[encoded data removed]",
      "text/plain": [
       "<Figure size 432x288 with 1 Axes>"
      ]
     },
     "metadata": {
      "needs_background": "light",
      "tags": []
     },
     "output_type": "display_data"
    }
   ],
   "source": [
    "print('\\nhistory dict:', history.history)\n",
    "\n",
    "plt.plot(history.history['loss'])\n",
    "plt.show()"
   ]
  },
  {
   "cell_type": "markdown",
   "metadata": {},
   "source": [
    "# Evaluate the Trained Model on the Test Data\n",
    "\n",
    "The .evaluate() command is used "
   ]
  },
  {
   "cell_type": "code",
   "execution_count": 8,
   "metadata": {
    "colab": {
     "base_uri": "https://localhost:8080/",
     "height": 85
    },
    "colab_type": "code",
    "id": "tecWduU0RW8t",
    "outputId": "2ec3f2d2-4b09-4c9b-b1b3-95268eeb5306"
   },
   "outputs": [
    {
     "name": "stdout",
     "output_type": "stream",
     "text": [
      "\n",
      "# Evaluating on test data\n",
      "79/79 [==============================] - 0s 4ms/step - loss: 1.4754 - sparse_categorical_accuracy: 0.9861\n",
      "test loss, test acc: [1.4753748178482056, 0.9861000180244446]\n"
     ]
    }
   ],
   "source": [
    "print('\\n# Evaluating on test data')\n",
    "results = model.evaluate(x_test[:,:,:,np.newaxis], y_test, batch_size=128)\n",
    "print('test loss, test acc:', results)"
   ]
  }
 ],
 "metadata": {
  "accelerator": "GPU",
  "colab": {
   "collapsed_sections": [],
   "name": "Lab_5_LeNet.ipynb",
   "provenance": []
  },
  "kernelspec": {
   "display_name": "Python 3",
   "language": "python",
   "name": "python3"
  },
  "language_info": {
   "codemirror_mode": {
    "name": "ipython",
    "version": 3
   },
   "file_extension": ".py",
   "mimetype": "text/x-python",
   "name": "python",
   "nbconvert_exporter": "python",
   "pygments_lexer": "ipython3",
   "version": "3.7.3"
  }
 },
 "nbformat": 4,
 "nbformat_minor": 1
}
